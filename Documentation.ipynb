{
 "cells": [
  {
   "cell_type": "markdown",
   "metadata": {},
   "source": [
    "# This is a salesforce bot."
   ]
  },
  {
   "cell_type": "markdown",
   "metadata": {},
   "source": [
    "Systems involved: spredsheet, web\n",
    "\n",
    "create a empty dict\n",
    "\n",
    "Open the spreedsheet with company numbers.\n",
    "Open the webpage.\n",
    "For each number in the spredsheet:\n",
    "    saves the data in a variable\n",
    "    insert the varibel string into form field.\n",
    "    hit enter\n",
    "    if result page is = to failed page\n",
    "        set dict key=number value=list(scrape_data)\n",
    "    else:\n",
    "        obj = scarpe data from fields.\n",
    "        \n",
    "return dict\n",
    "\n",
    "\n",
    "\n",
    "\n"
   ]
  }
 ],
 "metadata": {
  "kernelspec": {
   "display_name": "Python 3",
   "language": "python",
   "name": "python3"
  },
  "language_info": {
   "codemirror_mode": {
    "name": "ipython",
    "version": 3
   },
   "file_extension": ".py",
   "mimetype": "text/x-python",
   "name": "python",
   "nbconvert_exporter": "python",
   "pygments_lexer": "ipython3",
   "version": "3.8.5"
  }
 },
 "nbformat": 4,
 "nbformat_minor": 4
}
